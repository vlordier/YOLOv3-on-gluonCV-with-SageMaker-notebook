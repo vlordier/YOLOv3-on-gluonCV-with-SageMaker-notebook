{
  "cells": [
    {
      "cell_type": "code",
      "execution_count": null,
      "metadata": {
        "collapsed": false
      },
      "outputs": [],
      "source": [
        "%matplotlib inline"
      ]
    },
    {
      "cell_type": "markdown",
      "metadata": {},
      "source": [
        "07. Train YOLOv3 on PASCAL VOC\n================================\n\nThis tutorial goes through the basic steps of training a YOLOv3 object detection model\nprovided by GluonCV.\n\nSpecifically, we show how to build a state-of-the-art YOLOv3 model by stacking GluonCV components.\n\n\n.. hint::\n\n    You can skip the rest of this tutorial and start training your YOLOv3 model\n    right away by downloading this script:\n\n    :download:`Download train_yolo3.py<../../../scripts/detection/yolo/train_yolo3.py>`\n    Random shape training requires more GPU memory but generates better results. You can turn it off by setting `--no-random-shape`.\n\n    Example usage:\n\n    Train a default darknet53 model with Pascal VOC on GPU 0:\n\n    .. code-block:: bash\n\n        python train_yolo3.py --gpus 0\n\n    Train a darknet53 model on GPU 0,1,2,3 with synchronize BatchNorm:\n\n    .. code-block:: bash\n\n        python train_yolo3.py --gpus 0,1,2,3 --network darknet53 --syncbn\n\n    Check the supported arguments:\n\n    .. code-block:: bash\n\n        python train_yolo3.py --help\n\n\n.. hint::\n\n    Since lots of contents in this tutorial is very similar to :doc:`./train_ssd_voc`, you can skip any part\n    if you feel comfortable.\n"
      ]
    },
    {
      "cell_type": "markdown",
      "metadata": {},
      "source": [
        "Dataset\n-------\n\nPlease first go through this `sphx_glr_build_examples_datasets_pascal_voc.py` tutorial to setup Pascal\nVOC dataset on your disk.\nThen, we are ready to load training and validation images.\n\n"
      ]
    },
    {
      "cell_type": "code",
      "execution_count": null,
      "metadata": {
        "collapsed": false
      },
      "outputs": [],
      "source": [
        "import gluoncv as gcv\nfrom gluoncv.data import VOCDetection\n# typically we use 2007+2012 trainval splits for training data\ntrain_dataset = VOCDetection(splits=[(2007, 'trainval'), (2012, 'trainval')])\n# and use 2007 test as validation data\nval_dataset = VOCDetection(splits=[(2007, 'test')])\n\nprint('Training images:', len(train_dataset))\nprint('Validation images:', len(val_dataset))"
      ]
    },
    {
      "cell_type": "markdown",
      "metadata": {},
      "source": [
        "Data transform\n--------------\nWe can read an image-label pair from the training dataset:\n\n"
      ]
    },
    {
      "cell_type": "code",
      "execution_count": null,
      "metadata": {
        "collapsed": false
      },
      "outputs": [],
      "source": [
        "train_image, train_label = train_dataset[60]\nbboxes = train_label[:, :4]\ncids = train_label[:, 4:5]\nprint('image:', train_image.shape)\nprint('bboxes:', bboxes.shape, 'class ids:', cids.shape)"
      ]
    },
    {
      "cell_type": "markdown",
      "metadata": {},
      "source": [
        "Plot the image, together with the bounding box labels:\n\n"
      ]
    },
    {
      "cell_type": "code",
      "execution_count": null,
      "metadata": {
        "collapsed": false
      },
      "outputs": [],
      "source": [
        "from matplotlib import pyplot as plt\nfrom gluoncv.utils import viz\n\nax = viz.plot_bbox(train_image.asnumpy(), bboxes, labels=cids, class_names=train_dataset.classes)\nplt.show()"
      ]
    },
    {
      "cell_type": "markdown",
      "metadata": {},
      "source": [
        "Validation images are quite similar to training because they were\nbasically split randomly to different sets\n\n"
      ]
    },
    {
      "cell_type": "code",
      "execution_count": null,
      "metadata": {
        "collapsed": false
      },
      "outputs": [],
      "source": [
        "val_image, val_label = val_dataset[100]\nbboxes = val_label[:, :4]\ncids = val_label[:, 4:5]\nax = viz.plot_bbox(val_image.asnumpy(), bboxes, labels=cids, class_names=train_dataset.classes)\nplt.show()"
      ]
    },
    {
      "cell_type": "markdown",
      "metadata": {},
      "source": [
        "For YOLOv3 networks, we apply similar transforms to SSD example.\n\n"
      ]
    },
    {
      "cell_type": "code",
      "execution_count": null,
      "metadata": {
        "collapsed": false
      },
      "outputs": [],
      "source": [
        "from gluoncv.data.transforms import presets\nfrom gluoncv import utils\nfrom mxnet import nd"
      ]
    },
    {
      "cell_type": "code",
      "execution_count": null,
      "metadata": {
        "collapsed": false
      },
      "outputs": [],
      "source": [
        "width, height = 416, 416  # resize image to 416x416 after all data augmentation\ntrain_transform = presets.yolo.YOLO3DefaultTrainTransform(width, height)\nval_transform = presets.yolo.YOLO3DefaultValTransform(width, height)"
      ]
    },
    {
      "cell_type": "code",
      "execution_count": null,
      "metadata": {
        "collapsed": false
      },
      "outputs": [],
      "source": [
        "utils.random.seed(123)  # fix seed in this tutorial"
      ]
    },
    {
      "cell_type": "markdown",
      "metadata": {},
      "source": [
        "apply transforms to train image\n\n"
      ]
    },
    {
      "cell_type": "code",
      "execution_count": null,
      "metadata": {
        "collapsed": false
      },
      "outputs": [],
      "source": [
        "train_image2, train_label2 = train_transform(train_image, train_label)\nprint('tensor shape:', train_image2.shape)"
      ]
    },
    {
      "cell_type": "markdown",
      "metadata": {},
      "source": [
        "Images in tensor are distorted because they no longer sit in (0, 255) range.\nLet's convert them back so we can see them clearly.\n\n"
      ]
    },
    {
      "cell_type": "code",
      "execution_count": null,
      "metadata": {
        "collapsed": false
      },
      "outputs": [],
      "source": [
        "train_image2 = train_image2.transpose((1, 2, 0)) * nd.array((0.229, 0.224, 0.225)) + nd.array((0.485, 0.456, 0.406))\ntrain_image2 = (train_image2 * 255).clip(0, 255)\nax = viz.plot_bbox(train_image2.asnumpy(), train_label2[:, :4],\n                   labels=train_label2[:, 4:5],\n                   class_names=train_dataset.classes)\nplt.show()"
      ]
    },
    {
      "cell_type": "markdown",
      "metadata": {},
      "source": [
        "Transforms used in training include random color distortion, random expand/crop, random flipping,\nresizing and fixed color normalization.\nIn comparison, validation only involves resizing and color normalization.\n\n"
      ]
    },
    {
      "cell_type": "markdown",
      "metadata": {},
      "source": [
        "Data Loader\n-----------\nWe will iterate through the entire dataset many times during training.\nKeep in mind that raw images have to be transformed to tensors\n(mxnet uses BCHW format) before they are fed into neural networks.\n\nA handy DataLoader would be very convenient for us to apply different transforms and aggregate data into mini-batches.\n\nBecause the number of objects varys a lot across images, we also have\nvarying label sizes. As a result, we need to pad those labels to the same size.\nTo deal with this problem, GluonCV provides :py:class:`gluoncv.data.batchify.Pad`,\nwhich handles padding automatically.\n:py:class:`gluoncv.data.batchify.Stack` in addition, is used to stack NDArrays with consistent shapes.\n:py:class:`gluoncv.data.batchify.Tuple` is used to handle different behaviors across multiple outputs from transform functions.\n\n"
      ]
    },
    {
      "cell_type": "code",
      "execution_count": null,
      "metadata": {
        "collapsed": false
      },
      "outputs": [],
      "source": [
        "from gluoncv.data.batchify import Tuple, Stack, Pad\nfrom mxnet.gluon.data import DataLoader\n\nbatch_size = 2  # for tutorial, we use smaller batch-size\nnum_workers = 0  # you can make it larger(if your CPU has more cores) to accelerate data loading\n\n# behavior of batchify_fn: stack images, and pad labels\nbatchify_fn = Tuple(Stack(), Pad(pad_val=-1))\ntrain_loader = DataLoader(train_dataset.transform(train_transform), batch_size, shuffle=True,\n                          batchify_fn=batchify_fn, last_batch='rollover', num_workers=num_workers)\nval_loader = DataLoader(val_dataset.transform(val_transform), batch_size, shuffle=False,\n                        batchify_fn=batchify_fn, last_batch='keep', num_workers=num_workers)\n\nfor ib, batch in enumerate(train_loader):\n    if ib > 3:\n        break\n    print('data 0:', batch[0][0].shape, 'label 0:', batch[1][0].shape)\n    print('data 1:', batch[0][1].shape, 'label 1:', batch[1][1].shape)"
      ]
    },
    {
      "cell_type": "markdown",
      "metadata": {},
      "source": [
        "YOLOv3 Network\n-------------------\nGluonCV's YOLOv3 implementation is a composite Gluon HybridBlock.\nIn terms of structure, YOLOv3 networks are composed of base feature extraction\nnetwork, convolutional transition layers, upsampling layers, and specially designed YOLOv3 output layers.\n\nWe highly recommend you to read the original paper to learn more about the ideas\nbehind YOLO [YOLOv3]_.\n\n`Gluon Model Zoo <../../model_zoo/index.html>`__ has a few built-in YOLO networks, more on the way.\nYou can load your favorite one with one simple line of code:\n\n.. hint::\n\n   To avoid downloading models in this tutorial, we set `pretrained_base=False`,\n   in practice we usually want to load pre-trained imagenet models by setting\n   `pretrained_base=True`.\n\n"
      ]
    },
    {
      "cell_type": "code",
      "execution_count": null,
      "metadata": {
        "collapsed": false
      },
      "outputs": [],
      "source": [
        "from gluoncv import model_zoo\nnet = model_zoo.get_model('yolo3_darknet53_voc', pretrained_base=False)\nprint(net)"
      ]
    },
    {
      "cell_type": "markdown",
      "metadata": {},
      "source": [
        "YOLOv3 network is callable with image tensor\n\n"
      ]
    },
    {
      "cell_type": "code",
      "execution_count": null,
      "metadata": {
        "collapsed": false
      },
      "outputs": [],
      "source": [
        "import mxnet as mx\nx = mx.nd.zeros(shape=(1, 3, 416, 416))\nnet.initialize()\ncids, scores, bboxes = net(x)"
      ]
    },
    {
      "cell_type": "markdown",
      "metadata": {},
      "source": [
        "YOLOv3 returns three values, where ``cids`` are the class labels,\n``scores`` are confidence scores of each prediction,\nand ``bboxes`` are absolute coordinates of corresponding bounding boxes.\n\n"
      ]
    },
    {
      "cell_type": "markdown",
      "metadata": {},
      "source": [
        "Training targets\n----------------\nThere are four losses involved in end-to-end YOLOv3 training.\nthe loss to penalize incorrect class/box prediction, and is defined in :py:class:`gluoncv.loss.YOLOV3Loss`\n\n"
      ]
    },
    {
      "cell_type": "code",
      "execution_count": null,
      "metadata": {
        "collapsed": false
      },
      "outputs": [],
      "source": [
        "loss = gcv.loss.YOLOV3Loss()\n# which is already included in YOLOv3 network\nprint(net._loss)"
      ]
    },
    {
      "cell_type": "markdown",
      "metadata": {},
      "source": [
        "To speed up training, we let CPU to pre-compute some training targets (similar to SSD example).\nThis is especially nice when your CPU is powerful and you can use ``-j num_workers``\nto utilize multi-core CPU.\n\n"
      ]
    },
    {
      "cell_type": "markdown",
      "metadata": {},
      "source": [
        "If we provide network to the training transform function, it will compute partial training targets\n\n"
      ]
    },
    {
      "cell_type": "code",
      "execution_count": null,
      "metadata": {
        "collapsed": false
      },
      "outputs": [],
      "source": [
        "from mxnet import autograd\ntrain_transform = presets.yolo.YOLO3DefaultTrainTransform(width, height, net)\n# return stacked images, center_targets, scale_targets, gradient weights, objectness_targets, class_targets\n# additionally, return padded ground truth bboxes, so there are 7 components returned by dataloader\nbatchify_fn = Tuple(*([Stack() for _ in range(6)] + [Pad(axis=0, pad_val=-1) for _ in range(1)]))\ntrain_loader = DataLoader(train_dataset.transform(train_transform), batch_size, shuffle=True,\n                          batchify_fn=batchify_fn, last_batch='rollover', num_workers=num_workers)\n\nfor ib, batch in enumerate(train_loader):\n    if ib > 0:\n        break\n    print('data:', batch[0][0].shape)\n    print('label:', batch[6][0].shape)\n    with autograd.record():\n        input_order = [0, 6, 1, 2, 3, 4, 5]\n        obj_loss, center_loss, scale_loss, cls_loss = net(*[batch[o] for o in input_order])\n        # sum up the losses\n        # some standard gluon training steps:\n        # autograd.backward(sum_loss)\n        # trainer.step(batch_size)"
      ]
    },
    {
      "cell_type": "markdown",
      "metadata": {},
      "source": [
        "This time we can see the data loader is actually returning the training targets for us.\nThen it is very naturally a gluon training loop with Trainer and let it update the weights.\n\n.. hint::\n\n  Please checkout the full :download:`training script <../../../scripts/detection/yolo/train_yolo3.py>` for complete implementation.\n\n"
      ]
    },
    {
      "cell_type": "markdown",
      "metadata": {},
      "source": [
        "References\n----------\n\n.. [YOLOv3] Redmon, Joseph, and Ali Farhadi. \"Yolov3: An incremental improvement.\" arXiv preprint arXiv:1804.02767 (2018).\n\n"
      ]
    }
  ],
  "metadata": {
    "kernelspec": {
      "display_name": "Python 3",
      "language": "python",
      "name": "python3"
    },
    "language_info": {
      "codemirror_mode": {
        "name": "ipython",
        "version": 3
      },
      "file_extension": ".py",
      "mimetype": "text/x-python",
      "name": "python",
      "nbconvert_exporter": "python",
      "pygments_lexer": "ipython3",
      "version": "3.7.3"
    }
  },
  "nbformat": 4,
  "nbformat_minor": 0
}